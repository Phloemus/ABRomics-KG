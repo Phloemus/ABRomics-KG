{
 "cells": [
  {
   "cell_type": "markdown",
   "metadata": {},
   "source": [
    "#TP 2 informatique \n",
    "#Transcription\n",
    "Exercice 2.1"
   ]
  },
  {
   "cell_type": "code",
   "execution_count": 18,
   "metadata": {},
   "outputs": [
    {
     "name": "stdout",
     "output_type": "stream",
     "text": [
      "AGAT\n",
      "ARN AGAU\n"
     ]
    }
   ],
   "source": [
    "ADN = input()\n",
    "ARN = \"\"\n",
    "for i in range(len(ADN)):\n",
    "    if (ADN[i] == \"T\"):\n",
    "        ARN = ARN + \"U\"\n",
    "    else:\n",
    "        ARN = ARN + ADN[i]\n",
    "print(\"ARN\",ARN)"
   ]
  },
  {
   "cell_type": "markdown",
   "metadata": {},
   "source": [
    "Transcription V2"
   ]
  },
  {
   "cell_type": "code",
   "execution_count": null,
   "metadata": {},
   "outputs": [],
   "source": [
    "ADN = input()\n",
    "ARN = \"\"\n",
    "i = 0\n",
    "while (i<len(ADN)) and (ADN[i]==\"A\" or ADN[i]==\"C\" or ADN[i]==\"G\" or ADN[i]=='T'):\n",
    "    if (ADN[i]=='T'):\n",
    "        ARN = ARN + \"U\"\n",
    "    else:\n",
    "        ARN = ARN + ADN[i]\n",
    "    i += 1\n",
    "if (i== len(ADN)):\n",
    "    print(\"ARN\",ARN)\n",
    "else:\n",
    "    print(\"erreur\")"
   ]
  },
  {
   "cell_type": "markdown",
   "metadata": {},
   "source": [
    "TP Exercice 2.2"
   ]
  },
  {
   "cell_type": "code",
   "execution_count": null,
   "metadata": {},
   "outputs": [],
   "source": [
    "ARN = \"\"\n",
    "G = 0\n",
    "C = 0\n",
    "i = 0\n",
    "while (i<len(ADN)) and (ADN[i]==\"A\" or ADN[i]==\"C\" or ADN[i]==\"G\" or ADN[i]=='T'):\n",
    "    if (ADN[i]=='T'):\n",
    "        ARN = ARN + \"U\"\n",
    "    else:\n",
    "        ARN = ARN + ADN[i]\n",
    "    i += 1\n",
    "if (i== len(ADN)):\n",
    "    print(\"ARN\",ARN)\n",
    "else:\n",
    "    print(\"erreur\")\n",
    "for i in range(len(ADN)):\n",
    "    if (ADN[i]=='G'):\n",
    "        G +=1\n",
    "    elif (ADN[i]=='C'):\n",
    "        C += 1\n",
    "print((G+C)/len(ADN) * 100,'%')"
   ]
  },
  {
   "cell_type": "markdown",
   "metadata": {},
   "source": [
    "Exercice 2.3"
   ]
  },
  {
   "cell_type": "code",
   "execution_count": 4,
   "metadata": {},
   "outputs": [
    {
     "name": "stdout",
     "output_type": "stream",
     "text": [
      "ATGCCTATAGATAG\n",
      "ARN AUGCCUAUAGAUAG\n",
      "35.714285714285715 %\n",
      "Facteur de régulation en position 5 9\n"
     ]
    }
   ],
   "source": [
    "ADN = input()\n",
    "ARN = \"\"\n",
    "G = 0\n",
    "C = 0\n",
    "i = 0\n",
    "while (i<len(ADN)) and (ADN[i]==\"A\" or ADN[i]==\"C\" or ADN[i]==\"G\" or ADN[i]=='T'):\n",
    "    if (ADN[i]=='T'):\n",
    "        ARN = ARN + \"U\"\n",
    "    else:\n",
    "        ARN = ARN + ADN[i]\n",
    "    i += 1\n",
    "if (i== len(ADN)):\n",
    "    print(\"ARN\",ARN)\n",
    "else:\n",
    "    print(\"erreur\")\n",
    "for i in range(len(ADN)):\n",
    "    if (ADN[i]=='G'):\n",
    "        G +=1\n",
    "    elif (ADN[i]=='C'):\n",
    "        C += 1\n",
    "print((G+C)/len(ADN) * 100,'%')\n",
    "for i in range(len(ADN)):\n",
    "    if (ADN[i:i+4]=='TATA'):\n",
    "        print(\"Facteur de régulation entre\",i,i+4)"
   ]
  }
 ],
 "metadata": {
  "kernelspec": {
   "display_name": "Python 3 (ipykernel)",
   "language": "python",
   "name": "python3"
  },
  "language_info": {
   "codemirror_mode": {
    "name": "ipython",
    "version": 3
   },
   "file_extension": ".py",
   "mimetype": "text/x-python",
   "name": "python",
   "nbconvert_exporter": "python",
   "pygments_lexer": "ipython3",
   "version": "3.11.5"
  }
 },
 "nbformat": 4,
 "nbformat_minor": 4
}
